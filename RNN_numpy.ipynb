{
  "nbformat": 4,
  "nbformat_minor": 0,
  "metadata": {
    "kernelspec": {
      "display_name": "Python 3",
      "language": "python",
      "name": "python3"
    },
    "language_info": {
      "codemirror_mode": {
        "name": "ipython",
        "version": 3
      },
      "file_extension": ".py",
      "mimetype": "text/x-python",
      "name": "python",
      "nbconvert_exporter": "python",
      "pygments_lexer": "ipython3",
      "version": "3.6.0"
    },
    "colab": {
      "name": "RNN_numpy.ipynb",
      "provenance": [],
      "include_colab_link": true
    }
  },
  "cells": [
    {
      "cell_type": "markdown",
      "metadata": {
        "id": "view-in-github",
        "colab_type": "text"
      },
      "source": [
        "<a href=\"https://colab.research.google.com/github/marcinwolter/DeepLearning_2020/blob/main/RNN_numpy.ipynb\" target=\"_parent\"><img src=\"https://colab.research.google.com/assets/colab-badge.svg\" alt=\"Open In Colab\"/></a>"
      ]
    },
    {
      "cell_type": "markdown",
      "metadata": {
        "id": "sfXFYpH2Mfir"
      },
      "source": [
        "# Recurrent Neural Network\n",
        "Numpy implementation of binary addition in RNN. \n",
        "Code from https://github.com/revsic/numpy-rnn/blob/master/RNN_numpy.ipynb \n",
        "This code is in turn based on [iamtrask's github.io](https://iamtrask.github.io/2015/11/15/anyone-can-code-lstm/)."
      ]
    },
    {
      "cell_type": "markdown",
      "metadata": {
        "id": "3W36CcBiZzcn"
      },
      "source": [
        "The network is trained to add two binary numbers \n",
        "\n",
        "Input: binary a and b in the form of a vector of bins, ex. [1 1 1 1 0 1 1 0]\n",
        "\n",
        "Output: binary c - predicted result"
      ]
    },
    {
      "cell_type": "code",
      "metadata": {
        "collapsed": true,
        "id": "8KUde5RBMfjE"
      },
      "source": [
        "import numpy as np\n",
        "import matplotlib.pyplot as plt\n",
        "%matplotlib inline"
      ],
      "execution_count": 1,
      "outputs": []
    },
    {
      "cell_type": "markdown",
      "metadata": {
        "id": "UGZWYrP3MfjM"
      },
      "source": [
        "## Data Generation\n",
        "\n",
        "Generate the binary array less than 256."
      ]
    },
    {
      "cell_type": "code",
      "metadata": {
        "collapsed": true,
        "id": "gWvfLXeJMfjP"
      },
      "source": [
        "BIN_DIM = 8\n",
        "INPUT_DIM = 2\n",
        "HIDDEN_DIM = 16\n",
        "OUTPUT_DIM = 1\n",
        "\n",
        "ALPHA = 0.1\n",
        "ITER_NUM = 10000\n",
        "LOG_ITER = ITER_NUM // 10\n",
        "PLOT_ITER = ITER_NUM // 200"
      ],
      "execution_count": 2,
      "outputs": []
    },
    {
      "cell_type": "code",
      "metadata": {
        "id": "PaAmtxRQMfjX"
      },
      "source": [
        "largest = pow(2, BIN_DIM)\n",
        "decimal = np.array([range(largest)]).astype(np.uint8).T\n",
        "binary = np.unpackbits(decimal, axis=1)"
      ],
      "execution_count": 3,
      "outputs": []
    },
    {
      "cell_type": "markdown",
      "metadata": {
        "id": "q47lt8giMfje"
      },
      "source": [
        "## Prepare weights and deltas\n",
        "Prepare weight and delta values to use in the optimization process."
      ]
    },
    {
      "cell_type": "code",
      "metadata": {
        "id": "xLMg1IHCMfjh"
      },
      "source": [
        "# weight values\n",
        "w0 = np.random.normal(0, 1, [INPUT_DIM, HIDDEN_DIM])\n",
        "w1 = np.random.normal(0, 1, [HIDDEN_DIM, OUTPUT_DIM])\n",
        "wh = np.random.normal(0, 2, [HIDDEN_DIM, HIDDEN_DIM])"
      ],
      "execution_count": 4,
      "outputs": []
    },
    {
      "cell_type": "code",
      "metadata": {
        "id": "Fm5p8hN4Mfjm"
      },
      "source": [
        "# delta values\n",
        "d0 = np.zeros_like(w0)\n",
        "d1 = np.zeros_like(w1)\n",
        "dh = np.zeros_like(wh)"
      ],
      "execution_count": 5,
      "outputs": []
    },
    {
      "cell_type": "code",
      "metadata": {
        "collapsed": true,
        "id": "opGi39SLMfjt"
      },
      "source": [
        "errs = list()\n",
        "accs = list()\n",
        "\n",
        "error = 0\n",
        "accuracy = 0"
      ],
      "execution_count": 6,
      "outputs": []
    },
    {
      "cell_type": "markdown",
      "metadata": {
        "id": "ItfrBiHhMfju"
      },
      "source": [
        "## Training\n",
        "Training binary addition in RNN with Backpropagation Through Time."
      ]
    },
    {
      "cell_type": "code",
      "metadata": {
        "collapsed": true,
        "id": "Cks-r1JzMfjw"
      },
      "source": [
        "def sigmoid(x):\n",
        "    return 1 / (1 + np.exp(-x))\n",
        "\n",
        "def deriv_sigmoid(out):\n",
        "    return out * (1 - out)\n",
        "\n",
        "def bin2dec(b):\n",
        "    out = 0\n",
        "    for i, x in enumerate(b[::-1]):\n",
        "        out += x * pow(2, i)\n",
        "    \n",
        "    return out"
      ],
      "execution_count": 7,
      "outputs": []
    },
    {
      "cell_type": "code",
      "metadata": {
        "id": "bZhfVYz1Mfj0",
        "colab": {
          "base_uri": "https://localhost:8080/"
        },
        "outputId": "097771a7-16c2-4e6a-930a-2e3469c946cd"
      },
      "source": [
        "for i in range(ITER_NUM + 1):\n",
        "    # a + b = c\n",
        "    a_dec = np.random.randint(largest / 2)\n",
        "    b_dec = np.random.randint(largest / 2)\n",
        "    c_dec = a_dec + b_dec\n",
        "    \n",
        "    a_bin = binary[a_dec]\n",
        "    b_bin = binary[b_dec]\n",
        "    c_bin = binary[c_dec]\n",
        "    \n",
        "    pred = np.zeros_like(c_bin)\n",
        "    \n",
        "    overall_err = 0 # total error in the whole calculation process.\n",
        "    \n",
        "    output_deltas = list()\n",
        "    hidden_values = list()\n",
        "    hidden_values.append(np.zeros(HIDDEN_DIM))\n",
        "    \n",
        "    future_delta = np.zeros(HIDDEN_DIM)\n",
        "    \n",
        "    # forward propagation\n",
        "    for pos in range(BIN_DIM)[::-1]:\n",
        "        X = np.array([[a_bin[pos], b_bin[pos]]]) # shape=(1, 2)\n",
        "        Y = np.array([[c_bin[pos]]]) # shape=(1, 1)\n",
        "        \n",
        "        hidden = sigmoid(np.dot(X, w0) + np.dot(hidden_values[-1], wh))\n",
        "        output = sigmoid(np.dot(hidden, w1))\n",
        "        \n",
        "        pred[pos] = np.round(output[0][0])\n",
        "        \n",
        "        # squared mean error\n",
        "        output_err = Y - output\n",
        "        output_deltas.append(output_err * deriv_sigmoid(output))\n",
        "        hidden_values.append(hidden)\n",
        "        \n",
        "        overall_err += np.abs(output_err[0])\n",
        "    \n",
        "    # backpropagation through time\n",
        "    for pos in range(BIN_DIM):\n",
        "        X = np.array([[a_bin[pos], b_bin[pos]]])\n",
        "        \n",
        "        hidden = hidden_values[-(pos + 1)]\n",
        "        prev_hidden = hidden_values[-(pos + 2)]\n",
        "        \n",
        "        output_delta = output_deltas[-(pos + 1)]\n",
        "        hidden_delta = (np.dot(future_delta, wh.T) + np.dot(output_delta, w1.T)) * deriv_sigmoid(hidden)\n",
        "        \n",
        "        d1 += np.dot(np.atleast_2d(hidden).T, output_delta)\n",
        "        dh += np.dot(np.atleast_2d(prev_hidden).T, hidden_delta)\n",
        "        d0 += np.dot(X.T, hidden_delta)\n",
        "\n",
        "        future_delta = hidden_delta \n",
        "    \n",
        "    w1 += ALPHA * d1\n",
        "    w0 += ALPHA * d0\n",
        "    wh += ALPHA * dh\n",
        "    \n",
        "    d1 *= 0\n",
        "    d0 *= 0\n",
        "    dh *= 0\n",
        "    \n",
        "    error += overall_err\n",
        "    if (bin2dec(pred) == c_dec):\n",
        "        accuracy += 1\n",
        "        \n",
        "    if (i % PLOT_ITER == 0):\n",
        "        errs.append(error / PLOT_ITER)\n",
        "        accs.append(accuracy / PLOT_ITER)\n",
        "        \n",
        "        error = 0\n",
        "        accuracy = 0\n",
        "    \n",
        "    if (i % LOG_ITER == 0):\n",
        "        print('Iter', i)\n",
        "        print(\"Error :\", overall_err)\n",
        "        print(\"Pred :\", pred)\n",
        "        print(\"True :\", c_bin)\n",
        "        print(a_dec, \"+\", b_dec, \"=\", bin2dec(pred))\n",
        "        print('----------')"
      ],
      "execution_count": 8,
      "outputs": [
        {
          "output_type": "stream",
          "text": [
            "Iter 0\n",
            "Error : [2.75854135]\n",
            "Pred : [1 1 1 1 1 1 1 0]\n",
            "True : [1 0 1 1 1 0 1 0]\n",
            "75 + 111 = 254\n",
            "----------\n",
            "Iter 1000\n",
            "Error : [3.9327152]\n",
            "Pred : [0 0 0 0 0 0 1 0]\n",
            "True : [1 0 0 1 0 0 1 1]\n",
            "124 + 23 = 2\n",
            "----------\n",
            "Iter 2000\n",
            "Error : [4.06314139]\n",
            "Pred : [1 1 1 0 0 1 0 1]\n",
            "True : [0 1 0 1 1 1 1 0]\n",
            "69 + 25 = 229\n",
            "----------\n",
            "Iter 3000\n",
            "Error : [3.8635699]\n",
            "Pred : [0 0 0 0 0 1 0 0]\n",
            "True : [0 1 0 0 0 0 1 0]\n",
            "7 + 59 = 4\n",
            "----------\n",
            "Iter 4000\n",
            "Error : [4.12492368]\n",
            "Pred : [1 1 0 1 1 1 1 1]\n",
            "True : [1 1 1 0 0 0 0 1]\n",
            "126 + 99 = 223\n",
            "----------\n",
            "Iter 5000\n",
            "Error : [3.66927793]\n",
            "Pred : [0 1 1 0 0 0 0 1]\n",
            "True : [0 1 0 1 1 1 1 1]\n",
            "93 + 2 = 97\n",
            "----------\n",
            "Iter 6000\n",
            "Error : [2.25717535]\n",
            "Pred : [1 1 0 0 0 1 0 0]\n",
            "True : [0 1 1 0 0 1 0 0]\n",
            "51 + 49 = 196\n",
            "----------\n",
            "Iter 7000\n",
            "Error : [1.54964259]\n",
            "Pred : [1 0 1 1 0 1 1 1]\n",
            "True : [1 0 1 1 0 1 1 1]\n",
            "61 + 122 = 183\n",
            "----------\n",
            "Iter 8000\n",
            "Error : [0.77194004]\n",
            "Pred : [1 0 0 0 1 1 1 1]\n",
            "True : [1 0 0 0 1 1 1 1]\n",
            "125 + 18 = 143\n",
            "----------\n",
            "Iter 9000\n",
            "Error : [0.60065191]\n",
            "Pred : [1 0 1 0 1 0 1 1]\n",
            "True : [1 0 1 0 1 0 1 1]\n",
            "80 + 91 = 171\n",
            "----------\n",
            "Iter 10000\n",
            "Error : [0.35493299]\n",
            "Pred : [0 0 0 1 1 1 1 0]\n",
            "True : [0 0 0 1 1 1 1 0]\n",
            "11 + 19 = 30\n",
            "----------\n"
          ],
          "name": "stdout"
        }
      ]
    },
    {
      "cell_type": "markdown",
      "metadata": {
        "id": "dIcQ6dxxMfkH"
      },
      "source": [
        "## Plot learning curve\n",
        "Plot error and accuracy."
      ]
    },
    {
      "cell_type": "code",
      "metadata": {
        "id": "FWTNNqqSMfkI",
        "colab": {
          "base_uri": "https://localhost:8080/",
          "height": 282
        },
        "outputId": "8f3d427e-d1f6-4cfc-af09-3ae7927114e0"
      },
      "source": [
        "plt.plot(errs, label='error')\n",
        "plt.plot(accs, label='accuracy')\n",
        "plt.legend()"
      ],
      "execution_count": 9,
      "outputs": [
        {
          "output_type": "execute_result",
          "data": {
            "text/plain": [
              "<matplotlib.legend.Legend at 0x7fbf88888630>"
            ]
          },
          "metadata": {
            "tags": []
          },
          "execution_count": 9
        },
        {
          "output_type": "display_data",
          "data": {
            "image/png": "[encoded data removed]",
            "text/plain": [
              "<Figure size 432x288 with 1 Axes>"
            ]
          },
          "metadata": {
            "tags": [],
            "needs_background": "light"
          }
        }
      ]
    },
    {
      "cell_type": "markdown",
      "metadata": {
        "id": "l3OkYcv8PzfR"
      },
      "source": [
        "Test the network"
      ]
    },
    {
      "cell_type": "code",
      "metadata": {
        "id": "3Js4WPC6Px6p",
        "colab": {
          "base_uri": "https://localhost:8080/"
        },
        "outputId": "b9453b14-5c57-40f9-9210-8a0d4c256ad1"
      },
      "source": [
        "TEST_ITER_NUM = 10000\n",
        "\n",
        "n_yes = 0\n",
        "n_no  = 0\n",
        "\n",
        "for i in range(TEST_ITER_NUM + 1):\n",
        "    # a + b = c\n",
        "    # generate test data\n",
        "\n",
        "    a_dec = np.random.randint(largest / 2)\n",
        "    b_dec = np.random.randint(largest / 2)\n",
        "    c_dec = a_dec + b_dec\n",
        "    \n",
        "    a_bin = binary[a_dec]\n",
        "    b_bin = binary[b_dec]\n",
        "    c_bin = binary[c_dec]\n",
        "    \n",
        "    pred = np.zeros_like(c_bin)\n",
        "    \n",
        "    overall_err = 0 # total error in the whole calculation process.\n",
        "    \n",
        "    output_deltas = list()\n",
        "    hidden_values = list()\n",
        "    hidden_values.append(np.zeros(HIDDEN_DIM))\n",
        "    \n",
        "    future_delta = np.zeros(HIDDEN_DIM)\n",
        "    \n",
        "\n",
        "    # forward propagation\n",
        "    for pos in range(BIN_DIM)[::-1]:\n",
        "        X = np.array([[a_bin[pos], b_bin[pos]]]) # shape=(1, 2)\n",
        "        Y = np.array([[c_bin[pos]]]) # shape=(1, 1)\n",
        "        \n",
        "        hidden = sigmoid(np.dot(X, w0) + np.dot(hidden_values[-1], wh))\n",
        "        output = sigmoid(np.dot(hidden, w1))\n",
        "        \n",
        "        pred[pos] = np.round(output[0][0])\n",
        "\n",
        "        # squared mean error\n",
        "        output_err = Y - output\n",
        "        output_deltas.append(output_err * deriv_sigmoid(output))\n",
        "        hidden_values.append(hidden)\n",
        "        \n",
        "        overall_err += np.abs(output_err[0])        \n",
        "\n",
        "\n",
        "\n",
        "    # accuracy\n",
        "    if (bin2dec(pred) == c_dec): \n",
        "      n_yes += 1\n",
        "    else:\n",
        "      n_no  += 1\n",
        "    \n",
        "    if i<30:\n",
        "      print('Iter', i)\n",
        "      print(\"Error :\", overall_err)\n",
        "      print(\"Pred :\", pred)\n",
        "      print(\"True :\", c_bin)\n",
        "      print(a_dec, \"+\", b_dec, \"=\", bin2dec(pred))\n",
        "      print('----------')\n",
        "\n",
        "# calculate accuracy\n",
        "acc = float(n_yes)/float(n_yes+n_no)\n",
        "\n",
        "print(\" \")\n",
        "print(\" \")\n",
        "print(\" \")\n",
        "print(\"---------------------------------------------------\")\n",
        "print(\" \")\n",
        "print(\"RNN accuracy = \",acc)\n",
        "print(\" \")\n",
        "print(\" \")"
      ],
      "execution_count": 10,
      "outputs": [
        {
          "output_type": "stream",
          "text": [
            "Iter 0\n",
            "Error : [0.75919967]\n",
            "Pred : [1 1 1 0 1 0 0 1]\n",
            "True : [1 1 1 0 1 0 0 1]\n",
            "115 + 118 = 233\n",
            "----------\n",
            "Iter 1\n",
            "Error : [0.43868898]\n",
            "Pred : [1 0 0 0 0 0 1 1]\n",
            "True : [1 0 0 0 0 0 1 1]\n",
            "80 + 51 = 131\n",
            "----------\n",
            "Iter 2\n",
            "Error : [0.61644418]\n",
            "Pred : [1 0 0 0 0 1 1 0]\n",
            "True : [1 0 0 0 0 1 1 0]\n",
            "40 + 94 = 134\n",
            "----------\n",
            "Iter 3\n",
            "Error : [0.49953084]\n",
            "Pred : [1 0 0 1 1 1 0 0]\n",
            "True : [1 0 0 1 1 1 0 0]\n",
            "50 + 106 = 156\n",
            "----------\n",
            "Iter 4\n",
            "Error : [0.47026232]\n",
            "Pred : [1 0 0 1 1 1 1 1]\n",
            "True : [1 0 0 1 1 1 1 1]\n",
            "127 + 32 = 159\n",
            "----------\n",
            "Iter 5\n",
            "Error : [0.83731148]\n",
            "Pred : [1 0 0 0 0 1 0 0]\n",
            "True : [1 0 0 0 0 1 0 0]\n",
            "38 + 94 = 132\n",
            "----------\n",
            "Iter 6\n",
            "Error : [0.53986932]\n",
            "Pred : [1 0 1 0 0 0 0 0]\n",
            "True : [1 0 1 0 0 0 0 0]\n",
            "84 + 76 = 160\n",
            "----------\n",
            "Iter 7\n",
            "Error : [0.37735232]\n",
            "Pred : [0 0 1 0 0 1 1 1]\n",
            "True : [0 0 1 0 0 1 1 1]\n",
            "39 + 0 = 39\n",
            "----------\n",
            "Iter 8\n",
            "Error : [0.33383916]\n",
            "Pred : [0 1 0 0 1 1 1 1]\n",
            "True : [0 1 0 0 1 1 1 1]\n",
            "77 + 2 = 79\n",
            "----------\n",
            "Iter 9\n",
            "Error : [0.43751448]\n",
            "Pred : [1 0 1 0 1 1 1 1]\n",
            "True : [1 0 1 0 1 1 1 1]\n",
            "125 + 50 = 175\n",
            "----------\n",
            "Iter 10\n",
            "Error : [0.40802915]\n",
            "Pred : [0 1 0 0 1 1 1 0]\n",
            "True : [0 1 0 0 1 1 1 0]\n",
            "39 + 39 = 78\n",
            "----------\n",
            "Iter 11\n",
            "Error : [0.63307735]\n",
            "Pred : [1 0 0 0 1 1 0 0]\n",
            "True : [1 0 0 0 1 1 0 0]\n",
            "118 + 22 = 140\n",
            "----------\n",
            "Iter 12\n",
            "Error : [0.8158955]\n",
            "Pred : [1 1 0 0 0 0 0 0]\n",
            "True : [1 1 0 0 0 0 0 0]\n",
            "111 + 81 = 192\n",
            "----------\n",
            "Iter 13\n",
            "Error : [0.61060169]\n",
            "Pred : [1 1 0 1 1 1 1 0]\n",
            "True : [1 1 0 1 1 1 1 0]\n",
            "103 + 119 = 222\n",
            "----------\n",
            "Iter 14\n",
            "Error : [0.72486885]\n",
            "Pred : [0 1 1 0 0 1 1 1]\n",
            "True : [0 1 1 0 0 1 1 1]\n",
            "75 + 28 = 103\n",
            "----------\n",
            "Iter 15\n",
            "Error : [0.36940149]\n",
            "Pred : [1 0 0 1 0 0 1 0]\n",
            "True : [1 0 0 1 0 0 1 0]\n",
            "105 + 41 = 146\n",
            "----------\n",
            "Iter 16\n",
            "Error : [0.9027169]\n",
            "Pred : [1 0 0 0 1 0 1 0]\n",
            "True : [1 0 0 0 1 0 1 0]\n",
            "11 + 127 = 138\n",
            "----------\n",
            "Iter 17\n",
            "Error : [0.85402791]\n",
            "Pred : [0 1 0 1 0 0 0 0]\n",
            "True : [0 1 0 1 0 0 0 0]\n",
            "17 + 63 = 80\n",
            "----------\n",
            "Iter 18\n",
            "Error : [0.57191852]\n",
            "Pred : [0 1 1 1 0 0 1 1]\n",
            "True : [0 1 1 1 0 0 1 1]\n",
            "3 + 112 = 115\n",
            "----------\n",
            "Iter 19\n",
            "Error : [0.82466835]\n",
            "Pred : [0 1 1 0 0 1 1 1]\n",
            "True : [0 1 1 0 0 1 1 1]\n",
            "51 + 52 = 103\n",
            "----------\n",
            "Iter 20\n",
            "Error : [0.43230095]\n",
            "Pred : [0 1 0 1 0 0 1 1]\n",
            "True : [0 1 0 1 0 0 1 1]\n",
            "76 + 7 = 83\n",
            "----------\n",
            "Iter 21\n",
            "Error : [0.62985326]\n",
            "Pred : [1 1 0 1 0 1 0 0]\n",
            "True : [1 1 0 1 0 1 0 0]\n",
            "89 + 123 = 212\n",
            "----------\n",
            "Iter 22\n",
            "Error : [1.08834185]\n",
            "Pred : [0 1 0 1 0 0 0 1]\n",
            "True : [0 1 0 1 0 0 0 1]\n",
            "51 + 30 = 81\n",
            "----------\n",
            "Iter 23\n",
            "Error : [0.75936602]\n",
            "Pred : [1 1 0 1 1 0 1 0]\n",
            "True : [1 1 0 1 1 0 1 0]\n",
            "123 + 95 = 218\n",
            "----------\n",
            "Iter 24\n",
            "Error : [0.65199281]\n",
            "Pred : [0 1 1 0 1 0 1 0]\n",
            "True : [0 1 1 0 1 0 1 0]\n",
            "75 + 31 = 106\n",
            "----------\n",
            "Iter 25\n",
            "Error : [0.41241755]\n",
            "Pred : [0 1 0 0 1 1 0 1]\n",
            "True : [0 1 0 0 1 1 0 1]\n",
            "26 + 51 = 77\n",
            "----------\n",
            "Iter 26\n",
            "Error : [0.46981654]\n",
            "Pred : [0 1 1 1 1 0 1 1]\n",
            "True : [0 1 1 1 1 0 1 1]\n",
            "52 + 71 = 123\n",
            "----------\n",
            "Iter 27\n",
            "Error : [0.63969181]\n",
            "Pred : [1 0 0 1 1 0 0 1]\n",
            "True : [1 0 0 1 1 0 0 1]\n",
            "102 + 51 = 153\n",
            "----------\n",
            "Iter 28\n",
            "Error : [0.56284412]\n",
            "Pred : [0 1 1 1 1 1 0 0]\n",
            "True : [0 1 1 1 1 1 0 0]\n",
            "0 + 124 = 124\n",
            "----------\n",
            "Iter 29\n",
            "Error : [0.32355556]\n",
            "Pred : [1 0 1 0 1 1 0 1]\n",
            "True : [1 0 1 0 1 1 0 1]\n",
            "100 + 73 = 173\n",
            "----------\n",
            " \n",
            " \n",
            " \n",
            "---------------------------------------------------\n",
            " \n",
            "RNN accuracy =  0.999000099990001\n",
            " \n",
            " \n"
          ],
          "name": "stdout"
        }
      ]
    }
  ]
}