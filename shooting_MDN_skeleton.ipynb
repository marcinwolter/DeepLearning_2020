{
  "nbformat": 4,
  "nbformat_minor": 0,
  "metadata": {
    "colab": {
      "name": "shooting-MDN_skeleton.ipynb",
      "provenance": [],
      "collapsed_sections": [],
      "include_colab_link": true
    },
    "language_info": {
      "codemirror_mode": {
        "name": "ipython",
        "version": 3
      },
      "file_extension": ".py",
      "mimetype": "text/x-python",
      "name": "python",
      "nbconvert_exporter": "python",
      "pygments_lexer": "ipython3",
      "version": "3.6.5"
    },
    "kernelspec": {
      "name": "python3",
      "display_name": "Python 3"
    },
    "accelerator": "GPU"
  },
  "cells": [
    {
      "cell_type": "markdown",
      "metadata": {
        "id": "view-in-github",
        "colab_type": "text"
      },
      "source": [
        "<a href=\"https://colab.research.google.com/github/marcinwolter/DeepLearning_2020/blob/main/shooting_MDN_skeleton.ipynb\" target=\"_parent\"><img src=\"https://colab.research.google.com/assets/colab-badge.svg\" alt=\"Open In Colab\"/></a>"
      ]
    },
    {
      "cell_type": "markdown",
      "metadata": {
        "id": "NTPV2iB2iOqd"
      },
      "source": [
        "Zadanie:\n",
        "\n",
        "Strzelanie z armaty. \n",
        "Wejście: obrazek 64x64 piksele pokazujący kierunke lufy działa. \n",
        "Wyjście: miejsce trafienia. Jest ono rozmyte funkcją Gaussa.\n",
        "\n",
        "Na obecnym etapie sieć konwolucyjna znajduje na podstawie rysunku kierunek strzału i przewiduje najbardziej prawdopodobny punkt trafienia. \n",
        "\n",
        "Zadanie:\n",
        "1. Za pomocą sieci MDN znaleźć rozkład prawdopodobieństwa trafienia.\n",
        "2. Narysować taki rozkład dla zmieniających się położen lufy\n",
        "3. Narysować taki rozkład dla określonego położenia lufy armaty.\n",
        "4. Narysować rozkłady średnich i szerokości rozkładów Gaussa służących do aproksymacji rozkładu prawdopodobieństwa.\n",
        "5. Powtóryć analizę dla rozkładu prawdopodobieństwa trafienia będącego dwoma rozsuniętymi rozkładami gaussa:\n",
        "\n",
        "```\n",
        "  # Here the two-gaussian distribution is produced\n",
        "  rand1 = np.random.normal(loc=  1, scale=scale, size=half_sample)\n",
        "  rand2 = np.random.normal(loc= -1, scale=scale, size=NSAMPLE-half_sample)\n",
        "  random = np.concatenate((rand1,rand2), axis=0)\n",
        "  y_data = tan_angle*length + random\n",
        "```\n",
        "\n",
        "\n"
      ]
    },
    {
      "cell_type": "markdown",
      "metadata": {
        "id": "e-GI2H1ELDZQ"
      },
      "source": [
        "# Shoot the cannon\n",
        "\n",
        "The position of the cannon is decoded from the 64x64 pixel image (convolutional network should be used). The cannon shoots and the hit point is smeared by some not neceserily gaussian probability (could be two gaussians with different means).\n",
        "The task is to design the MDN network to find the probability of the hit position.\n",
        "\n",
        "\n",
        "# Mixture Density Network\n",
        "\n",
        "Reproducing the classic Bishop MDN network tasks in Keras. The idea in this task is to predict a the value of an inverse sine function. This function has multiple real-valued solutions at each point, so the ANN model needs to have the capacity to handle this in it's loss function. An MDN is a good way to handle the predictions of these multiple output values.\n",
        "\n",
        "There's a couple of other versions of this task, and this implementation owes much to the following:\n",
        "\n",
        "- [David Ha - Mixture Density Networks with TensorFlow](http://blog.otoro.net/2015/11/24/mixture-density-networks-with-tensorflow/)\n",
        "- [Mixture Density Networks in Edward](http://edwardlib.org/tutorials/mixture-density-network)"
      ]
    },
    {
      "cell_type": "code",
      "metadata": {
        "id": "pZ2ic1BLLDZV"
      },
      "source": [
        "# Install mdn\n",
        "# !pip install keras-mdn-layer\n",
        "\n",
        "\n",
        "from tensorflow.compat.v1 import keras\n",
        "from keras.layers import Dense, Dropout, Flatten\n",
        "from keras.layers import Conv2D, MaxPooling2D\n",
        "\n",
        "# import mdn\n",
        " \n",
        "import numpy as np\n",
        "import random\n",
        "import matplotlib.pyplot as plt\n"
      ],
      "execution_count": 15,
      "outputs": []
    },
    {
      "cell_type": "markdown",
      "metadata": {
        "id": "ytpfizwKLDZf"
      },
      "source": [
        "## Generate Synthetic Data\n",
        "\n",
        "Data generation"
      ]
    },
    {
      "cell_type": "code",
      "metadata": {
        "id": "8VpAAURELDZj"
      },
      "source": [
        "PLOT_WIDTH = 64\n",
        "PLOT_DIM = (PLOT_WIDTH,PLOT_WIDTH)\n",
        "MAX_ANGLE = 0.4\n",
        "\n",
        "def generate_data(NSAMPLE=3000, scale=1., rotation_range=0.3, rotation=0):\n",
        "# NSAMPLE - number of shoots\n",
        "# scale - smearing of each gaussian\n",
        "# rotation-range - cannon can rotate in this range\n",
        "# rotation - center of the rotation range\n",
        "\n",
        "  # shooting angle\n",
        "  tan_angle = np.float32(np.random.uniform(rotation - rotation_range, rotation + rotation_range, NSAMPLE))\n",
        "  \n",
        "\n",
        "  # target shooting\n",
        "  length = 30.\n",
        "  \n",
        "  half_sample = int(NSAMPLE/2)\n",
        "\n",
        "  # Here the two-gaussian distribution is produced \n",
        "  # here we can produce two-gaussians distribution\n",
        "  rand1 = np.random.normal(loc=  0, scale=scale, size=half_sample)\n",
        "  rand2 = np.random.normal(loc=  0, scale=scale, size=NSAMPLE-half_sample)\n",
        "  random = np.concatenate((rand1,rand2), axis=0)\n",
        "  y_data = tan_angle*length + random\n",
        "\n",
        "\n",
        "  # generate events\n",
        "  x_data=np.zeros((NSAMPLE,PLOT_DIM[0],PLOT_DIM[1],1))\n",
        "\n",
        "  x = np.arange(start=0, stop=PLOT_WIDTH, step=1.)\n",
        "  y = npy = tan_angle * x[ :, np.newaxis]+PLOT_WIDTH/2\n",
        "\n",
        "  for i in range(NSAMPLE):\n",
        "    for j in range(2,PLOT_WIDTH-2):\n",
        "      x_data[i,int(y[j,i]),j] = 1.\n",
        "\n",
        "  # normalize y_data\n",
        "  y_data = y_data/(MAX_ANGLE*length)\n",
        "  x_data = x_data.reshape(NSAMPLE,PLOT_WIDTH,PLOT_WIDTH,1)\n",
        "\n",
        "  # plot the generated distribution\n",
        "  #plt.hist(y_data, density=True, bins=30,  alpha=0.5, label='train data') \n",
        "  #plt.show()\n",
        "\n",
        "  return x_data, y_data\n",
        "\n"
      ],
      "execution_count": 16,
      "outputs": []
    },
    {
      "cell_type": "code",
      "metadata": {
        "colab": {
          "base_uri": "https://localhost:8080/",
          "height": 904
        },
        "id": "_5lZynmLddWd",
        "outputId": "095046fc-a251-47f8-accc-f51e830f80e5"
      },
      "source": [
        "## Generating some data:\n",
        "NSAMPLE = 10000\n",
        "SCALE = 0.2\n",
        "\n",
        "x_data, y_data = generate_data(NSAMPLE=NSAMPLE, scale=SCALE, rotation_range=0.3, rotation=0)\n",
        "\n",
        "fig = plt.figure(figsize=(4, 16))\n",
        "\n",
        "# plot first ten events\n",
        "for n in range(10):\n",
        "  ax = fig.add_subplot(10, 2, 2*n + 1, xticks=[], yticks=[])\n",
        "  ax.imshow(x_data[n].reshape(PLOT_WIDTH,PLOT_WIDTH), interpolation='nearest')\n",
        "  ax = fig.add_subplot(10, 2, 2*n + 2, xticks=[], yticks=[])\n",
        "  ax.plot([0],[-y_data[n]], 'ro',)\n",
        "  plt.ylim([-1, 1])\n",
        "  plt.xlim([-1, 1])\n",
        "\n",
        "plt.show()\n"
      ],
      "execution_count": 17,
      "outputs": [
        {
          "output_type": "display_data",
          "data": {
            "image/png": "[encoded data removed]",
            "text/plain": [
              "<Figure size 288x1152 with 20 Axes>"
            ]
          },
          "metadata": {
            "tags": []
          }
        }
      ]
    },
    {
      "cell_type": "markdown",
      "metadata": {
        "id": "UkfBXIcjLDZt"
      },
      "source": [
        "## Build the MDN Model\n",
        "\n",
        "Now we will construct the MDN model in Keras. This uses the `Sequential` model interface in Keras.\n",
        "\n",
        "The `MDN` layer comes after one or more `Dense` layers. You need to define the output dimension and number of mixtures for the MDN like so: `MDN(output_dimension, number_mixtures)`.\n",
        "\n",
        "\n",
        "\n",
        "For MDNs, we have to use a special loss function that can handle the mixture parameters: the function has to take into account the number of output dimensions and mixtures."
      ]
    },
    {
      "cell_type": "code",
      "metadata": {
        "id": "X6IJ9t0RLDZu",
        "colab": {
          "base_uri": "https://localhost:8080/"
        },
        "outputId": "78f32317-6c63-4517-d4ba-046f27559fe8"
      },
      "source": [
        "N_HIDDEN = 128\n",
        "N_MIXES = 2  #5\n",
        "\n",
        "print(x_data.shape)\n",
        "\n",
        "model = keras.Sequential()\n",
        "\n",
        "# convolutional network\n",
        "model.add(Conv2D(32, kernel_size=(3, 3),\n",
        "                 activation='relu',\n",
        "                 input_shape=(PLOT_WIDTH,PLOT_WIDTH,1)))\n",
        "model.add(Conv2D(64, (3, 3), activation='relu'))\n",
        "model.add(MaxPooling2D(pool_size=(2, 2)))\n",
        "model.add(Dropout(0.25))\n",
        "\n",
        "model.add(Conv2D(64, kernel_size=(3, 3),\n",
        "                 activation='relu'))\n",
        "model.add(Conv2D(64, (3, 3), activation='relu'))\n",
        "model.add(MaxPooling2D(pool_size=(2, 2)))\n",
        "model.add(Dropout(0.25))\n",
        "\n",
        "model.add(Flatten())\n",
        "model.add(Dense(N_HIDDEN, activation='relu'))\n",
        "model.add(Dense(N_HIDDEN, activation='relu'))\n",
        "\n",
        "'''\n",
        "# fully connected network\n",
        "model.add(Flatten(batch_input_shape=(None, PLOT_WIDTH*PLOT_WIDTH,1)) )\n",
        "model.add(Dense(N_HIDDEN, activation='relu'))\n",
        "model.add(Dense(N_HIDDEN, activation='relu'))\n",
        "model.add(Dropout(0.2))\n",
        "\n",
        "model.add(Dense(N_HIDDEN, activation='relu'))\n",
        "model.add(Dense(N_HIDDEN, activation='relu'))\n",
        "model.add(Dropout(0.2))\n",
        "\n",
        "model.add(Dense(N_HIDDEN, activation='relu'))\n",
        "'''\n",
        "# last layer with single node to return the hit position\n",
        "model.add(keras.layers.Dense(1))\n",
        "\n",
        "\n",
        "# RMSprop() optimizer is used (adam was slightly unstable)\n",
        "# Dla MDN można użyć i potem rysować  metrics=[mdn.get_mixture_mse_accuracy(1,N_MIXES)]\n",
        "model.compile(loss=\"mean_squared_error\", optimizer=keras.optimizers.RMSprop() )\n",
        "model.summary()"
      ],
      "execution_count": 18,
      "outputs": [
        {
          "output_type": "stream",
          "text": [
            "(10000, 64, 64, 1)\n",
            "Model: \"sequential_1\"\n",
            "_________________________________________________________________\n",
            "Layer (type)                 Output Shape              Param #   \n",
            "=================================================================\n",
            "conv2d_4 (Conv2D)            (None, 62, 62, 32)        320       \n",
            "_________________________________________________________________\n",
            "conv2d_5 (Conv2D)            (None, 60, 60, 64)        18496     \n",
            "_________________________________________________________________\n",
            "max_pooling2d_2 (MaxPooling2 (None, 30, 30, 64)        0         \n",
            "_________________________________________________________________\n",
            "dropout_2 (Dropout)          (None, 30, 30, 64)        0         \n",
            "_________________________________________________________________\n",
            "conv2d_6 (Conv2D)            (None, 28, 28, 64)        36928     \n",
            "_________________________________________________________________\n",
            "conv2d_7 (Conv2D)            (None, 26, 26, 64)        36928     \n",
            "_________________________________________________________________\n",
            "max_pooling2d_3 (MaxPooling2 (None, 13, 13, 64)        0         \n",
            "_________________________________________________________________\n",
            "dropout_3 (Dropout)          (None, 13, 13, 64)        0         \n",
            "_________________________________________________________________\n",
            "flatten_1 (Flatten)          (None, 10816)             0         \n",
            "_________________________________________________________________\n",
            "dense_3 (Dense)              (None, 128)               1384576   \n",
            "_________________________________________________________________\n",
            "dense_4 (Dense)              (None, 128)               16512     \n",
            "_________________________________________________________________\n",
            "dense_5 (Dense)              (None, 1)                 129       \n",
            "=================================================================\n",
            "Total params: 1,493,889\n",
            "Trainable params: 1,493,889\n",
            "Non-trainable params: 0\n",
            "_________________________________________________________________\n"
          ],
          "name": "stdout"
        }
      ]
    },
    {
      "cell_type": "markdown",
      "metadata": {
        "id": "DbpCyfycLDZ1"
      },
      "source": [
        "### Training the model\n",
        "\n",
        "Now we train the model using Keras' normal `fit` command."
      ]
    },
    {
      "cell_type": "code",
      "metadata": {
        "id": "DklknLO6LDZ3",
        "colab": {
          "base_uri": "https://localhost:8080/"
        },
        "outputId": "f8aac5a1-120e-46d3-dc0b-ef4e71e46d29"
      },
      "source": [
        "# Dla MDN liczba epochs powinna być większa, np. 100\n",
        "history = model.fit(x=x_data, y=y_data, batch_size=128, epochs=20, validation_split=0.2)"
      ],
      "execution_count": 19,
      "outputs": [
        {
          "output_type": "stream",
          "text": [
            "Epoch 1/20\n",
            "63/63 [==============================] - 3s 43ms/step - loss: 0.0674 - val_loss: 0.0115\n",
            "Epoch 2/20\n",
            "63/63 [==============================] - 3s 40ms/step - loss: 0.0112 - val_loss: 6.0739e-04\n",
            "Epoch 3/20\n",
            "63/63 [==============================] - 3s 41ms/step - loss: 0.0057 - val_loss: 0.0045\n",
            "Epoch 4/20\n",
            "63/63 [==============================] - 3s 41ms/step - loss: 0.0041 - val_loss: 0.0043\n",
            "Epoch 5/20\n",
            "63/63 [==============================] - 3s 41ms/step - loss: 0.0032 - val_loss: 0.0019\n",
            "Epoch 6/20\n",
            "63/63 [==============================] - 3s 41ms/step - loss: 0.0020 - val_loss: 5.2360e-04\n",
            "Epoch 7/20\n",
            "63/63 [==============================] - 3s 41ms/step - loss: 0.0014 - val_loss: 0.0012\n",
            "Epoch 8/20\n",
            "63/63 [==============================] - 3s 41ms/step - loss: 0.0013 - val_loss: 0.0010\n",
            "Epoch 9/20\n",
            "63/63 [==============================] - 3s 41ms/step - loss: 0.0012 - val_loss: 5.9946e-04\n",
            "Epoch 10/20\n",
            "63/63 [==============================] - 3s 41ms/step - loss: 9.2897e-04 - val_loss: 4.7391e-04\n",
            "Epoch 11/20\n",
            "63/63 [==============================] - 3s 41ms/step - loss: 8.4070e-04 - val_loss: 3.1022e-04\n",
            "Epoch 12/20\n",
            "63/63 [==============================] - 3s 41ms/step - loss: 8.9799e-04 - val_loss: 6.6976e-04\n",
            "Epoch 13/20\n",
            "63/63 [==============================] - 3s 41ms/step - loss: 7.3535e-04 - val_loss: 3.7796e-04\n",
            "Epoch 14/20\n",
            "63/63 [==============================] - 3s 41ms/step - loss: 5.7305e-04 - val_loss: 3.2290e-04\n",
            "Epoch 15/20\n",
            "63/63 [==============================] - 3s 41ms/step - loss: 5.6585e-04 - val_loss: 9.6207e-04\n",
            "Epoch 16/20\n",
            "63/63 [==============================] - 3s 41ms/step - loss: 5.8326e-04 - val_loss: 3.2059e-04\n",
            "Epoch 17/20\n",
            "63/63 [==============================] - 3s 41ms/step - loss: 6.0972e-04 - val_loss: 5.8372e-04\n",
            "Epoch 18/20\n",
            "63/63 [==============================] - 3s 41ms/step - loss: 5.7885e-04 - val_loss: 6.0974e-04\n",
            "Epoch 19/20\n",
            "63/63 [==============================] - 3s 41ms/step - loss: 5.0952e-04 - val_loss: 6.2205e-04\n",
            "Epoch 20/20\n",
            "63/63 [==============================] - 3s 41ms/step - loss: 4.7960e-04 - val_loss: 4.6495e-04\n"
          ],
          "name": "stdout"
        }
      ]
    },
    {
      "cell_type": "markdown",
      "metadata": {
        "id": "BzyMrK3OLDaM"
      },
      "source": [
        "### Training and Validation Loss\n",
        "\n",
        "It's interesting to see how the model trained. We can see that after a certain point training is rather slow.\n",
        "\n"
      ]
    },
    {
      "cell_type": "code",
      "metadata": {
        "id": "sc1Osf5wLDaO",
        "colab": {
          "base_uri": "https://localhost:8080/",
          "height": 320
        },
        "outputId": "2c2c8a8d-b3ee-4613-bc51-28f31bbb09f3"
      },
      "source": [
        "plt.figure(figsize=(10, 5))\n",
        "#plt.ylim([0,0.02])\n",
        "plt.plot(history.history['loss'], label='loss' )\n",
        "plt.plot(history.history['val_loss'], label='val loss' )\n",
        "plt.legend(loc='upper right')\n",
        "plt.show()"
      ],
      "execution_count": 20,
      "outputs": [
        {
          "output_type": "display_data",
          "data": {
            "image/png": "[encoded data removed]",
            "text/plain": [
              "<Figure size 720x360 with 1 Axes>"
            ]
          },
          "metadata": {
            "tags": [],
            "needs_background": "light"
          }
        }
      ]
    },
    {
      "cell_type": "markdown",
      "metadata": {
        "id": "1_H0D1t9LDaT"
      },
      "source": [
        "## Sampling Functions\n",
        "\n",
        "The MDN model outputs parameters of a mixture model---a list of means (mu), variances (sigma), and weights (pi).\n",
        "\n",
        "The `mdn` module provides a function to sample from these parameters as follows. First the parameters are split up into `mu`s, `sigma`s and `pi`s, then the categorical distribution formed by the `pi`s is sampled to choose which mixture component should be sampled, then that component's `mu`s and `sigma`s is used to sample from a multivariate normal model, here's the code:\n",
        "\n",
        "    def sample_from_output(params, output_dim, num_mixes, temp=1.0):\n",
        "        \"\"\"Sample from an MDN output with temperature adjustment.\"\"\"\n",
        "        mus = params[:num_mixes*output_dim]\n",
        "        sigs = params[num_mixes*output_dim:2*num_mixes*output_dim]\n",
        "        pis = softmax(params[-num_mixes:], t=temp)\n",
        "        m = sample_from_categorical(pis)\n",
        "        # Alternative way to sample from categorical:\n",
        "        # m = np.random.choice(range(len(pis)), p=pis)\n",
        "        mus_vector = mus[m*output_dim:(m+1)*output_dim]\n",
        "        sig_vector = sigs[m*output_dim:(m+1)*output_dim] * temp  # adjust for temperature\n",
        "        cov_matrix = np.identity(output_dim) * sig_vector\n",
        "        sample = np.random.multivariate_normal(mus_vector, cov_matrix, 1)\n",
        "        return sample\n",
        "        \n",
        "If you only have one prediction to sample from, you can use the function as is; but if you need to sample from a lot of predictions at once (as in the following sections), you can use `np.apply_along_axis` to apply it to a whole numpy array of predicted parameters."
      ]
    },
    {
      "cell_type": "markdown",
      "metadata": {
        "id": "An3SY1HuLDaU"
      },
      "source": [
        "## Try out the MDN Model\n",
        "\n",
        "Now we try out the model by making predictions for some data points\n",
        "\n",
        "We're going to sample from these parameters for each point, and also try plotting the parameters themselves so we can have some insight into what the model is learning!"
      ]
    },
    {
      "cell_type": "code",
      "metadata": {
        "id": "if5UOTdkAwi-"
      },
      "source": [
        "# generate test data\n",
        "\n",
        "# the whole range of data (identical with the training sample)\n",
        "x_test, y_test = generate_data(NSAMPLE=NSAMPLE, scale=SCALE, rotation_range=0.3, rotation = 0.0)\n",
        "# just one shooting position\n",
        "#x_test, y_test = generate_data(NSAMPLE=NSAMPLE, scale=SCALE, rotation_range=0.01, rotation = 0.2)"
      ],
      "execution_count": 29,
      "outputs": []
    },
    {
      "cell_type": "code",
      "metadata": {
        "id": "XpfvXqp-LDaW"
      },
      "source": [
        "## Sample on some test data:\n",
        "\n",
        "\n",
        "# Make predictions from the model\n",
        "y_pred = model.predict(x_test)\n",
        "# y_test contains parameters for distributions, not actual points on the graph.\n",
        "# To find points on the graph, we need to sample from each distribution.\n"
      ],
      "execution_count": 30,
      "outputs": []
    },
    {
      "cell_type": "code",
      "metadata": {
        "id": "VESVRp3XgXTu"
      },
      "source": [
        "\n",
        "# Tu można narysować rozkłady parametrów rozkładów Gaussa użytych do aproksymacji prawdopodobieństwa\n",
        "\n"
      ],
      "execution_count": 31,
      "outputs": []
    },
    {
      "cell_type": "code",
      "metadata": {
        "id": "J0A-p2mFLDae",
        "colab": {
          "base_uri": "https://localhost:8080/",
          "height": 963
        },
        "outputId": "63825dab-0ac3-4fba-cdef-7aea76af999e"
      },
      "source": [
        "\n",
        "# Plot the samples\n",
        "plt.figure(figsize=(8, 8))\n",
        "plt.hist(y_data.reshape(NSAMPLE,1), density=True, bins=30,  alpha=0.5, label='training data') \n",
        "plt.hist(y_test.reshape(NSAMPLE,1), density=True, bins=30,  alpha=0.5, label='test data')\n",
        "plt.hist(y_pred, density=True, bins=30,  alpha=0.5, label='predicted')\n",
        "plt.legend(loc='upper right')\n",
        "plt.show()\n",
        "\n",
        "plt.figure(figsize=(8, 8))\n",
        "plt.scatter(y_test,y_pred)\n",
        "plt.xlabel(\"test hits\")\n",
        "plt.ylabel(\"predicted hits\")\n",
        "\n",
        "plt.show()"
      ],
      "execution_count": 32,
      "outputs": [
        {
          "output_type": "display_data",
          "data": {
            "image/png": "[encoded data removed]",
            "text/plain": [
              "<Figure size 576x576 with 1 Axes>"
            ]
          },
          "metadata": {
            "tags": [],
            "needs_background": "light"
          }
        },
        {
          "output_type": "display_data",
          "data": {
            "image/png": "[encoded data removed]",
            "text/plain": [
              "<Figure size 576x576 with 1 Axes>"
            ]
          },
          "metadata": {
            "tags": [],
            "needs_background": "light"
          }
        }
      ]
    }
  ]
}