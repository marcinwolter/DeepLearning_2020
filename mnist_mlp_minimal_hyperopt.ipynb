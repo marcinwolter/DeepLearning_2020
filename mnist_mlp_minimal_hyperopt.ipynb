{
  "nbformat": 4,
  "nbformat_minor": 0,
  "metadata": {
    "colab": {
      "name": "mnist_mlp_minimal_hyperopt.ipynb",
      "provenance": [],
      "collapsed_sections": [],
      "include_colab_link": true
    },
    "kernelspec": {
      "name": "python3",
      "display_name": "Python 3"
    },
    "accelerator": "GPU"
  },
  "cells": [
    {
      "cell_type": "markdown",
      "metadata": {
        "id": "view-in-github",
        "colab_type": "text"
      },
      "source": [
        "<a href=\"https://colab.research.google.com/github/marcinwolter/DeepLearning_2020/blob/main/mnist_mlp_minimal_hyperopt.ipynb\" target=\"_parent\"><img src=\"https://colab.research.google.com/assets/colab-badge.svg\" alt=\"Open In Colab\"/></a>"
      ]
    },
    {
      "cell_type": "code",
      "metadata": {
        "id": "wskFAF8Svagf",
        "colab": {
          "base_uri": "https://localhost:8080/"
        },
        "outputId": "1884409e-8afc-4d02-91b4-824485f8255a"
      },
      "source": [
        "'''Trains a simple deep NN on the MNIST dataset.\n",
        "\n",
        "Gets to 98.40% test accuracy after 20 epochs\n",
        "(there is *a lot* of margin for parameter tuning).\n",
        "2 seconds per epoch on a K520 GPU.\n",
        "'''\n",
        "\n",
        "from __future__ import print_function\n",
        "\n",
        "import matplotlib.pyplot as plt\n",
        "import numpy as np\n",
        "\n",
        "from hyperopt import fmin, tpe, hp, STATUS_OK, Trials\n",
        "\n",
        "import keras\n",
        "from keras.datasets import mnist\n",
        "from keras.models import Sequential\n",
        "from keras.layers import Dense, Dropout\n",
        "from keras.optimizers import RMSprop\n",
        "\n",
        "batch_size = 128\n",
        "num_classes = 10\n",
        "epochs = 10 #20\n",
        "\n",
        "N_TRAIN_EXAMPLES = 3000\n",
        "N_TEST_EXAMPLES = 1000\n",
        "\n",
        "# the data, split between train and test sets\n",
        "(x_train, y_train), (x_test, y_test) = mnist.load_data()\n",
        "\n",
        "\n",
        "x_train = x_train.reshape(60000, 784)\n",
        "x_test = x_test.reshape(10000, 784)\n",
        "x_train = x_train.astype('float32')\n",
        "x_test = x_test.astype('float32')\n",
        "x_train /= 255\n",
        "x_test /= 255\n",
        "\n",
        "# print info about a shape of arrays\n",
        "print(x_train.shape, 'train samples')\n",
        "print(x_test.shape, 'test samples')\n",
        "print(y_train.shape, 'train samples')\n",
        "print(y_test.shape, 'test samples')\n",
        "\n",
        "# convert class vectors to binary class matrices\n",
        "y_train = keras.utils.to_categorical(y_train, num_classes)\n",
        "y_test = keras.utils.to_categorical(y_test, num_classes)\n",
        "\n",
        "\n",
        "# take a subset of all MNIST events\n",
        "x_train = x_train[:N_TRAIN_EXAMPLES]\n",
        "y_train = y_train[:N_TRAIN_EXAMPLES]\n",
        "x_test = x_test[:N_TEST_EXAMPLES]\n",
        "y_test = y_test[:N_TEST_EXAMPLES]\n",
        "\n",
        "# print info about a shape of arrays\n",
        "print(x_train.shape, 'train samples after conversion')\n",
        "print(x_test.shape, 'test samples  after conversion')\n",
        "print(y_train.shape, 'train samples after conversion')\n",
        "print(y_test.shape, 'test samples  after conversion')\n"
      ],
      "execution_count": 6,
      "outputs": [
        {
          "output_type": "stream",
          "text": [
            "(60000, 784) train samples\n",
            "(10000, 784) test samples\n",
            "(60000,) train samples\n",
            "(10000,) test samples\n",
            "(60000, 784) train samples after conversion\n",
            "(10000, 784) test samples  after conversion\n",
            "(60000, 10) train samples after conversion\n",
            "(10000, 10) test samples  after conversion\n"
          ],
          "name": "stdout"
        }
      ]
    },
    {
      "cell_type": "code",
      "metadata": {
        "id": "2It5qYmBvxjO"
      },
      "source": [
        "space = {\n",
        "\n",
        "            'units1': hp.quniform('units1', 32,1024,32),\n",
        "#            'units2': hp.quniform('units2', 64,1024,16),\n",
        "#            'units3': hp.quniform('units3', 64,1024,16),\n",
        "\n",
        "\n",
        "            'dropout1': hp.quniform('dropout1', .00,.50,.05),\n",
        "\n",
        "        }"
      ],
      "execution_count": 7,
      "outputs": []
    },
    {
      "cell_type": "code",
      "metadata": {
        "id": "F6PkCAMabIgo"
      },
      "source": [
        "def f_nn(params):   \n",
        "\n",
        "    print ('Parameters testing: ', params)\n",
        "\n",
        "    model = Sequential()\n",
        "    model.add(Dense(int(params['units1']), activation='relu', input_shape=(784,)))\n",
        "    model.add(Dropout(params['dropout1']))\n",
        "    model.add(Dense(int(params['units1']), activation='relu'))\n",
        "    model.add(Dropout(params['dropout1']))\n",
        "    model.add(Dense(int(params['units1']), activation='relu'))\n",
        "    model.add(Dropout(params['dropout1']))\n",
        "    model.add(Dense(num_classes, activation='softmax'))\n",
        "\n",
        "    #model.summary()\n",
        "\n",
        "    model.compile(loss='categorical_crossentropy',\n",
        "              optimizer=RMSprop(),\n",
        "              metrics=['accuracy'])\n",
        "\n",
        "    history = model.fit(x_train, y_train,\n",
        "                    batch_size=batch_size,\n",
        "                    epochs=epochs,\n",
        "                    verbose=0,\n",
        "                    validation_data=(x_test, y_test))\n",
        "    \n",
        "    score = model.evaluate(x_test, y_test, verbose=0)\n",
        "    print('Test accuracy:', score[1])\n",
        "\n",
        "    return {'loss': -score[1], 'status': STATUS_OK}\n",
        "\n"
      ],
      "execution_count": 8,
      "outputs": []
    },
    {
      "cell_type": "markdown",
      "metadata": {
        "id": "o9ucLGRr7MIu"
      },
      "source": [
        "# **Find the best parameters:**"
      ]
    },
    {
      "cell_type": "code",
      "metadata": {
        "id": "tdVK_6lX3jUy",
        "colab": {
          "base_uri": "https://localhost:8080/"
        },
        "outputId": "ecbc717e-9cc5-43b0-bfcc-b6ddb0c85688"
      },
      "source": [
        "\n",
        "trials = Trials()\n",
        "best = fmin(f_nn, space, algo=tpe.suggest, max_evals=50, trials=trials)\n",
        "\n"
      ],
      "execution_count": 9,
      "outputs": [
        {
          "output_type": "stream",
          "text": [
            "Parameters testing: \n",
            "{'dropout1': 0.4, 'units1': 736.0}\n",
            "Test accuracy:\n",
            "0.9129999876022339\n",
            "Parameters testing: \n",
            "{'dropout1': 0.05, 'units1': 64.0}\n",
            "Test accuracy:\n",
            "0.8790000081062317\n",
            "Parameters testing: \n",
            "{'dropout1': 0.0, 'units1': 96.0}\n",
            "Test accuracy:\n",
            "0.9039999842643738\n",
            "Parameters testing: \n",
            "{'dropout1': 0.2, 'units1': 32.0}\n",
            "Test accuracy:\n",
            "0.8690000176429749\n",
            "Parameters testing: \n",
            "{'dropout1': 0.25, 'units1': 608.0}\n",
            "Test accuracy:\n",
            "0.921999990940094\n",
            "Parameters testing: \n",
            "{'dropout1': 0.25, 'units1': 256.0}\n",
            "Test accuracy:\n",
            "0.9070000052452087\n",
            "Parameters testing: \n",
            "{'dropout1': 0.1, 'units1': 512.0}\n",
            "Test accuracy:\n",
            "0.8769999742507935\n",
            "Parameters testing: \n",
            "{'dropout1': 0.15000000000000002, 'units1': 352.0}\n",
            "Test accuracy:\n",
            "0.9049999713897705\n",
            "Parameters testing: \n",
            "{'dropout1': 0.4, 'units1': 768.0}\n",
            "Test accuracy:\n",
            "0.902999997138977\n",
            "Parameters testing: \n",
            "{'dropout1': 0.05, 'units1': 832.0}\n",
            "Test accuracy:\n",
            "0.9190000295639038\n",
            "Parameters testing: \n",
            "{'dropout1': 0.25, 'units1': 96.0}\n",
            "Test accuracy:\n",
            "0.8859999775886536\n",
            "Parameters testing: \n",
            "{'dropout1': 0.0, 'units1': 512.0}\n",
            "Test accuracy:\n",
            "0.925000011920929\n",
            "Parameters testing: \n",
            "{'dropout1': 0.2, 'units1': 192.0}\n",
            "Test accuracy:\n",
            "0.9089999794960022\n",
            "Parameters testing: \n",
            "{'dropout1': 0.2, 'units1': 608.0}\n",
            "Test accuracy:\n",
            "0.9210000038146973\n",
            "Parameters testing: \n",
            "{'dropout1': 0.2, 'units1': 576.0}\n",
            "Test accuracy:\n",
            "0.9120000004768372\n",
            "Parameters testing: \n",
            "{'dropout1': 0.45, 'units1': 224.0}\n",
            "Test accuracy:\n",
            "0.8989999890327454\n",
            "Parameters testing: \n",
            "{'dropout1': 0.4, 'units1': 736.0}\n",
            "Test accuracy:\n",
            "0.9169999957084656\n",
            "Parameters testing: \n",
            "{'dropout1': 0.35000000000000003, 'units1': 320.0}\n",
            "Test accuracy:\n",
            "0.9259999990463257\n",
            "Parameters testing: \n",
            "{'dropout1': 0.1, 'units1': 352.0}\n",
            "Test accuracy:\n",
            "0.9150000214576721\n",
            "Parameters testing: \n",
            "{'dropout1': 0.45, 'units1': 192.0}\n",
            "Test accuracy:\n",
            "0.8920000195503235\n",
            "Parameters testing: \n",
            "{'dropout1': 0.35000000000000003, 'units1': 448.0}\n",
            "Test accuracy:\n",
            "0.9100000262260437\n",
            "Parameters testing: \n",
            "{'dropout1': 0.30000000000000004, 'units1': 416.0}\n",
            "Test accuracy:\n",
            "0.9259999990463257\n",
            "Parameters testing: \n",
            "{'dropout1': 0.30000000000000004, 'units1': 384.0}\n",
            "Test accuracy:\n",
            "0.925000011920929\n",
            "Parameters testing: \n",
            "{'dropout1': 0.35000000000000003, 'units1': 288.0}\n",
            "Test accuracy:\n",
            "0.8989999890327454\n",
            "Parameters testing: \n",
            "{'dropout1': 0.30000000000000004, 'units1': 960.0}\n",
            "Test accuracy:\n",
            "0.9279999732971191\n",
            "Parameters testing: \n",
            "{'dropout1': 0.30000000000000004, 'units1': 1024.0}\n",
            "Test accuracy:\n",
            "0.902999997138977\n",
            "Parameters testing: \n",
            "{'dropout1': 0.5, 'units1': 960.0}\n",
            "Test accuracy:\n",
            "0.9150000214576721\n",
            "Parameters testing: \n",
            "{'dropout1': 0.30000000000000004, 'units1': 896.0}\n",
            "Test accuracy:\n",
            "0.9269999861717224\n",
            "Parameters testing: \n",
            "{'dropout1': 0.45, 'units1': 896.0}\n",
            "Test accuracy:\n",
            "0.9150000214576721\n",
            "Parameters testing: \n",
            "{'dropout1': 0.30000000000000004, 'units1': 992.0}\n",
            "Test accuracy:\n",
            "0.9010000228881836\n",
            "Parameters testing: \n",
            "{'dropout1': 0.35000000000000003, 'units1': 896.0}\n",
            "Test accuracy:\n",
            "0.9070000052452087\n",
            "Parameters testing: \n",
            "{'dropout1': 0.15000000000000002, 'units1': 672.0}\n",
            "Test accuracy:\n",
            "0.8939999938011169\n",
            "Parameters testing: \n",
            "{'dropout1': 0.4, 'units1': 928.0}\n",
            "Test accuracy:\n",
            "0.9020000100135803\n",
            "Parameters testing: \n",
            "{'dropout1': 0.15000000000000002, 'units1': 832.0}\n",
            "Test accuracy:\n",
            "0.9259999990463257\n",
            "Parameters testing: \n",
            "{'dropout1': 0.5, 'units1': 800.0}\n",
            "Test accuracy:\n",
            "0.9160000085830688\n",
            "Parameters testing: \n",
            "{'dropout1': 0.25, 'units1': 672.0}\n",
            "Test accuracy:\n",
            "0.9229999780654907\n",
            "Parameters testing: \n",
            "{'dropout1': 0.30000000000000004, 'units1': 864.0}\n",
            "Test accuracy:\n",
            "0.9300000071525574\n",
            "Parameters testing: \n",
            "{'dropout1': 0.35000000000000003, 'units1': 1024.0}\n",
            "Test accuracy:\n",
            "0.8960000276565552\n",
            "Parameters testing: \n",
            "{'dropout1': 0.25, 'units1': 672.0}\n",
            "Test accuracy:\n",
            "0.9179999828338623\n",
            "Parameters testing: \n",
            "{'dropout1': 0.15000000000000002, 'units1': 704.0}\n",
            "Test accuracy:\n",
            "0.9179999828338623\n",
            "Parameters testing: \n",
            "{'dropout1': 0.2, 'units1': 832.0}\n",
            "Test accuracy:\n",
            "0.9129999876022339\n",
            "Parameters testing: \n",
            "{'dropout1': 0.4, 'units1': 960.0}\n",
            "Test accuracy:\n",
            "0.9089999794960022\n",
            "Parameters testing: \n",
            "{'dropout1': 0.1, 'units1': 576.0}\n",
            "Test accuracy:\n",
            "0.9150000214576721\n",
            "Parameters testing: \n",
            "{'dropout1': 0.45, 'units1': 800.0}\n",
            "Test accuracy:\n",
            "0.9100000262260437\n",
            "Parameters testing: \n",
            "{'dropout1': 0.25, 'units1': 864.0}\n",
            "Test accuracy:\n",
            "0.9139999747276306\n",
            "Parameters testing: \n",
            "{'dropout1': 0.2, 'units1': 768.0}\n",
            "Test accuracy:\n",
            "0.8989999890327454\n",
            "Parameters testing: \n",
            "{'dropout1': 0.05, 'units1': 992.0}\n",
            "Test accuracy:\n",
            "0.8619999885559082\n",
            "Parameters testing: \n",
            "{'dropout1': 0.30000000000000004, 'units1': 480.0}\n",
            "Test accuracy:\n",
            "0.9129999876022339\n",
            "Parameters testing: \n",
            "{'dropout1': 0.4, 'units1': 736.0}\n",
            "Test accuracy:\n",
            "0.9229999780654907\n",
            "Parameters testing: \n",
            "{'dropout1': 0.0, 'units1': 64.0}\n",
            "Test accuracy:\n",
            "0.8889999985694885\n",
            "100%|██████████| 50/50 [01:29<00:00,  1.80s/it, best loss: -0.9300000071525574]\n"
          ],
          "name": "stdout"
        }
      ]
    },
    {
      "cell_type": "code",
      "metadata": {
        "id": "_B1thTIH7ZUR",
        "colab": {
          "base_uri": "https://localhost:8080/"
        },
        "outputId": "e37fd62b-ffbe-4969-920d-59b95751a9d4"
      },
      "source": [
        "print('best: ', best)\n",
        "print('best accuracy: ',-trials.best_trial['result']['loss'])\n",
        "\n",
        "#from hyperopt import space_eval\n",
        "#print('best parameters: ',space_eval(space, best))"
      ],
      "execution_count": 10,
      "outputs": [
        {
          "output_type": "stream",
          "text": [
            "best:  {'dropout1': 0.30000000000000004, 'units1': 864.0}\n",
            "best accuracy:  0.9300000071525574\n"
          ],
          "name": "stdout"
        }
      ]
    },
    {
      "cell_type": "markdown",
      "metadata": {
        "id": "4MDUgcZZBk3w"
      },
      "source": [
        "# **Visualization**"
      ]
    },
    {
      "cell_type": "code",
      "metadata": {
        "id": "-cUVxOOwBpPE",
        "colab": {
          "base_uri": "https://localhost:8080/",
          "height": 322
        },
        "outputId": "2fdbbcc0-cf98-4c6e-884e-3f2e618ccaf0"
      },
      "source": [
        "#units vs time\n",
        "\n",
        "f, ax = plt.subplots(1)\n",
        "xs = [t['tid'] for t in trials.trials]\n",
        "ys = [t['misc']['vals']['units1'] for t in trials.trials]\n",
        "ax.set_xlim(xs[0]-10, xs[-1]+10)\n",
        "ax.scatter(xs, ys, s=20, linewidth=0.01, alpha=0.75)\n",
        "ax.set_title('$units$ $vs$ $time$ ', fontsize=18)\n",
        "ax.set_xlabel('$time$', fontsize=16)\n",
        "ax.set_ylabel('$units$', fontsize=16)"
      ],
      "execution_count": 11,
      "outputs": [
        {
          "output_type": "execute_result",
          "data": {
            "text/plain": [
              "Text(0, 0.5, '$units$')"
            ]
          },
          "metadata": {
            "tags": []
          },
          "execution_count": 11
        },
        {
          "output_type": "display_data",
          "data": {
            "image/png": "[encoded data removed]",
            "text/plain": [
              "<Figure size 432x288 with 1 Axes>"
            ]
          },
          "metadata": {
            "tags": [],
            "needs_background": "light"
          }
        }
      ]
    },
    {
      "cell_type": "code",
      "metadata": {
        "id": "BuOmTnnnELke"
      },
      "source": [
        ""
      ],
      "execution_count": 11,
      "outputs": []
    },
    {
      "cell_type": "code",
      "metadata": {
        "id": "C6MRsovXEMLC",
        "colab": {
          "base_uri": "https://localhost:8080/",
          "height": 324
        },
        "outputId": "c7ee30dc-5e96-4005-ea8f-6703de55e419"
      },
      "source": [
        "#units vs time\n",
        "\n",
        "f, ax = plt.subplots(1)\n",
        "xs = [t['tid'] for t in trials.trials]\n",
        "ys = [t['misc']['vals']['dropout1'] for t in trials.trials]\n",
        "ax.set_xlim(xs[0]-10, xs[-1]+10)\n",
        "ax.scatter(xs, ys, s=20, linewidth=0.01, alpha=0.75)\n",
        "ax.set_title('$dropout$ $vs$ $time$ ', fontsize=18)\n",
        "ax.set_xlabel('$time$', fontsize=16)\n",
        "ax.set_ylabel('$dropout$', fontsize=16)"
      ],
      "execution_count": 12,
      "outputs": [
        {
          "output_type": "execute_result",
          "data": {
            "text/plain": [
              "Text(0, 0.5, '$dropout$')"
            ]
          },
          "metadata": {
            "tags": []
          },
          "execution_count": 12
        },
        {
          "output_type": "display_data",
          "data": {
            "image/png": "[encoded data removed]",
            "text/plain": [
              "<Figure size 432x288 with 1 Axes>"
            ]
          },
          "metadata": {
            "tags": [],
            "needs_background": "light"
          }
        }
      ]
    },
    {
      "cell_type": "code",
      "metadata": {
        "id": "JZvxEkA5HIZh",
        "colab": {
          "base_uri": "https://localhost:8080/",
          "height": 324
        },
        "outputId": "a99271dc-b8d6-415a-b464-9b704feef7eb"
      },
      "source": [
        "#dropout vs units\n",
        "\n",
        "f, ax = plt.subplots(1)\n",
        "xs = [t['misc']['vals']['units1'] for t in trials.trials]\n",
        "ys = [t['misc']['vals']['dropout1'] for t in trials.trials]\n",
        "#ax.set_xlim(xs[0]-10, xs[-1]+10)\n",
        "ax.scatter(xs, ys, s=20, linewidth=0.01, alpha=0.75)\n",
        "ax.set_title('$dropout$ $vs$ $units$ ', fontsize=18)\n",
        "ax.set_xlabel('$units$', fontsize=16)\n",
        "ax.set_ylabel('$dropout$', fontsize=16)"
      ],
      "execution_count": 13,
      "outputs": [
        {
          "output_type": "execute_result",
          "data": {
            "text/plain": [
              "Text(0, 0.5, '$dropout$')"
            ]
          },
          "metadata": {
            "tags": []
          },
          "execution_count": 13
        },
        {
          "output_type": "display_data",
          "data": {
            "image/png": "[encoded data removed]",
            "text/plain": [
              "<Figure size 432x288 with 1 Axes>"
            ]
          },
          "metadata": {
            "tags": [],
            "needs_background": "light"
          }
        }
      ]
    },
    {
      "cell_type": "code",
      "metadata": {
        "id": "BTcZlwEyEhFC",
        "colab": {
          "base_uri": "https://localhost:8080/",
          "height": 324
        },
        "outputId": "7c84125b-788c-4457-8723-868e8a2bd2e7"
      },
      "source": [
        "#value vs units\n",
        "\n",
        "f, ax = plt.subplots(1)\n",
        "xs = [t['misc']['vals']['units1'] for t in trials.trials]\n",
        "ys = [-t['result']['loss'] for t in trials.trials]\n",
        "#ax.set_xlim(xs[0]-10, xs[-1]+10)\n",
        "ax.scatter(xs, ys, s=20, linewidth=0.01, alpha=0.75)\n",
        "ax.set_title('$accuracy$ $vs$ $units$ ', fontsize=18)\n",
        "ax.set_xlabel('$units$', fontsize=16)\n",
        "ax.set_ylabel('$accuracy$', fontsize=16)\n",
        "\n"
      ],
      "execution_count": 14,
      "outputs": [
        {
          "output_type": "execute_result",
          "data": {
            "text/plain": [
              "Text(0, 0.5, '$accuracy$')"
            ]
          },
          "metadata": {
            "tags": []
          },
          "execution_count": 14
        },
        {
          "output_type": "display_data",
          "data": {
            "image/png": "[encoded data removed]",
            "text/plain": [
              "<Figure size 432x288 with 1 Axes>"
            ]
          },
          "metadata": {
            "tags": [],
            "needs_background": "light"
          }
        }
      ]
    },
    {
      "cell_type": "code",
      "metadata": {
        "id": "qCk_zVkDGI7y",
        "colab": {
          "base_uri": "https://localhost:8080/",
          "height": 327
        },
        "outputId": "3924bc35-5fff-42cb-d716-bdae53d5f2d2"
      },
      "source": [
        "#value vs dropout\n",
        "\n",
        "f, ax = plt.subplots(1)\n",
        "xs = [t['misc']['vals']['dropout1'] for t in trials.trials]\n",
        "ys = [-t['result']['loss'] for t in trials.trials]\n",
        "#ax.set_xlim(xs[0]-10, xs[-1]+10)\n",
        "ax.scatter(xs, ys, s=20, linewidth=0.01, alpha=0.75)\n",
        "ax.set_title('$accuracy$ $vs$ $dropout$ ', fontsize=18)\n",
        "ax.set_xlabel('$dropout$', fontsize=16)\n",
        "ax.set_ylabel('$accuracy$', fontsize=16)\n",
        "\n"
      ],
      "execution_count": 15,
      "outputs": [
        {
          "output_type": "execute_result",
          "data": {
            "text/plain": [
              "Text(0, 0.5, '$accuracy$')"
            ]
          },
          "metadata": {
            "tags": []
          },
          "execution_count": 15
        },
        {
          "output_type": "display_data",
          "data": {
            "image/png": "[encoded data removed]",
            "text/plain": [
              "<Figure size 432x288 with 1 Axes>"
            ]
          },
          "metadata": {
            "tags": [],
            "needs_background": "light"
          }
        }
      ]
    }
  ]
}